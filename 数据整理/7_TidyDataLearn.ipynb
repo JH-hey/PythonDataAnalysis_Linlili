{
 "cells": [
  {
   "cell_type": "code",
   "execution_count": 1,
   "id": "6cf42ff9",
   "metadata": {},
   "outputs": [],
   "source": [
    "import pandas as pd"
   ]
  },
  {
   "cell_type": "markdown",
   "id": "4f681341",
   "metadata": {},
   "source": [
    "## 拼接两个dataframe"
   ]
  },
  {
   "cell_type": "code",
   "execution_count": 2,
   "id": "b6c28eb6",
   "metadata": {},
   "outputs": [
    {
     "ename": "NameError",
     "evalue": "name 'df1' is not defined",
     "output_type": "error",
     "traceback": [
      "\u001b[1;31m---------------------------------------------------------------------------\u001b[0m",
      "\u001b[1;31mNameError\u001b[0m                                 Traceback (most recent call last)",
      "Cell \u001b[1;32mIn[2], line 2\u001b[0m\n\u001b[0;32m      1\u001b[0m \u001b[38;5;66;03m#纵向拼接，忽略索引（当两个dataframe的列名完全一致时）\u001b[39;00m\n\u001b[1;32m----> 2\u001b[0m pd\u001b[38;5;241m.\u001b[39mconcat([\u001b[43mdf1\u001b[49m,df2],ignore_index\u001b[38;5;241m=\u001b[39m\u001b[38;5;28;01mTrue\u001b[39;00m)\n",
      "\u001b[1;31mNameError\u001b[0m: name 'df1' is not defined"
     ]
    }
   ],
   "source": [
    "#纵向拼接，忽略索引（当两个dataframe的列名完全一致时）\n",
    "#若两个列名有一字之差，则合并后会将两个列均展现出来\n",
    "pd.concat([df1,df2],ignore_index=True)"
   ]
  },
  {
   "cell_type": "code",
   "execution_count": null,
   "id": "dc11bacc",
   "metadata": {},
   "outputs": [],
   "source": [
    "#横向拼接数据\n",
    "pd.concat([df1,df2],axis=1)"
   ]
  },
  {
   "cell_type": "markdown",
   "id": "485573b4",
   "metadata": {},
   "source": [
    "## 合并两个dataframe"
   ]
  },
  {
   "cell_type": "code",
   "execution_count": null,
   "id": "7d0f6844",
   "metadata": {},
   "outputs": [],
   "source": [
    "#当变量在两个df中的名字完全一致\n",
    "pd.merge(order_df2,customer_df2,on=[\"客户ID\"，\"订单日期\"])"
   ]
  },
  {
   "cell_type": "code",
   "execution_count": null,
   "id": "430c14a9",
   "metadata": {},
   "outputs": [],
   "source": [
    "#当变量在两个df中的名字不完全一致\n",
    "pd.merge(order_df3,customer_df3,left_on=[\"客户编号\"，\"订单日期\"]，right_on=[\"客户ID\",\"交易日期\"])"
   ]
  },
  {
   "cell_type": "code",
   "execution_count": null,
   "id": "6eddf6c6",
   "metadata": {},
   "outputs": [],
   "source": [
    "#当两个需要合并的df中有一列的名字是重复的，则可以为合并后的df指定名字是什么（当然不指定也可以的）\n",
    "pd.merge(df7,df8,on=[\"日期\"，\"店铺\"]，suffixes=[\"_df7\",\"_df8\"])\n",
    "#默认情况,merge都内连接，如果要指定左连接，右连接，加一个参数how：  how=\"left\",\"right\",\"outer\""
   ]
  },
  {
   "cell_type": "markdown",
   "id": "9e5604ed",
   "metadata": {},
   "source": [
    "## 根据索引合并dataframe--join"
   ]
  },
  {
   "cell_type": "code",
   "execution_count": 3,
   "id": "dec3cadd",
   "metadata": {},
   "outputs": [],
   "source": [
    "#当要合并的df有重命名列时（必须指定合并后的列名是啥（即后缀），要不然报错）"
   ]
  },
  {
   "cell_type": "code",
   "execution_count": null,
   "id": "cb9e334b",
   "metadata": {},
   "outputs": [],
   "source": [
    "customer_df4.join(order_df4,how=\"inner\",lsuffix='_customer',rsuffix='_order')"
   ]
  },
  {
   "cell_type": "markdown",
   "id": "632753cb",
   "metadata": {},
   "source": [
    "## 分组运算 --groupby比较常用"
   ]
  },
  {
   "cell_type": "code",
   "execution_count": null,
   "id": "71577d52",
   "metadata": {},
   "outputs": [],
   "source": [
    "df.groupby(\"分点编号\")[\"销售额\"].mean()\n",
    "#最后返回一个series"
   ]
  },
  {
   "cell_type": "code",
   "execution_count": null,
   "id": "ca192300",
   "metadata": {},
   "outputs": [],
   "source": [
    "df.groupby(\"分点编号\")[[\"销售额\",\"销售数量\"]].mean()\n",
    "#返回的是dataframe"
   ]
  },
  {
   "cell_type": "code",
   "execution_count": null,
   "id": "fb9809c4",
   "metadata": {},
   "outputs": [],
   "source": [
    "#可以根据多个变量分组\n",
    "df.groupby([\"分点编号\",\"时间段\"])[[\"销售额\",\"销售数量\"]].mean()"
   ]
  },
  {
   "cell_type": "code",
   "execution_count": 4,
   "id": "a268e049",
   "metadata": {},
   "outputs": [],
   "source": [
    "#这里的聚合函数也可以用自己定义的"
   ]
  },
  {
   "cell_type": "code",
   "execution_count": 5,
   "id": "edfe9636",
   "metadata": {},
   "outputs": [],
   "source": [
    "def max_plus_10(nums):\n",
    "    return num.max()+10"
   ]
  },
  {
   "cell_type": "code",
   "execution_count": null,
   "id": "fa5a1089",
   "metadata": {},
   "outputs": [],
   "source": [
    "df.groupby([\"分点编号\",\"时间段\"])[[\"销售额\",\"销售数量\"]].apply(max_plus_10)"
   ]
  },
  {
   "cell_type": "markdown",
   "id": "0f61eb0c",
   "metadata": {},
   "source": [
    "## 数据透视表--pivot_table"
   ]
  },
  {
   "cell_type": "code",
   "execution_count": 6,
   "id": "351fab93",
   "metadata": {},
   "outputs": [],
   "source": [
    "#将分店编号，时间段作为两层的索引，商品类别作为列，value是销售额，用sum做聚合运算"
   ]
  },
  {
   "cell_type": "code",
   "execution_count": null,
   "id": "11ca0cf2",
   "metadata": {},
   "outputs": [],
   "source": [
    "pd.pivot_table(df,index=[\"分店编号\",\"时间段\"],columns=\"商品类别\",values=\"销售额\",aggfunc=np.sum)\n",
    "#若不指定aggfunc，则默认是mean()"
   ]
  },
  {
   "cell_type": "markdown",
   "id": "50650930",
   "metadata": {},
   "source": [
    "## 分组与透视表的区别"
   ]
  },
  {
   "cell_type": "markdown",
   "id": "28b61a93",
   "metadata": {},
   "source": [
    "### 相同  \n",
    "都可以用来分组聚合运算"
   ]
  },
  {
   "cell_type": "markdown",
   "id": "a1ec7182",
   "metadata": {},
   "source": [
    "### 不同\n",
    "groupby：主要用于聚合运算，且聚合的逻辑直接。用于索引的变量不可以作为列  \n",
    "pivot_table：主要是直观，且既可以用 索引 分组又可以用 列 进行分组"
   ]
  },
  {
   "cell_type": "markdown",
   "id": "3eabb4e4",
   "metadata": {},
   "source": [
    "## pd.cut操作"
   ]
  },
  {
   "cell_type": "markdown",
   "id": "38ff749e",
   "metadata": {},
   "source": [
    "当我们用年龄做为分组标准进行聚合时，因为每一个数值年龄都是一个类别，因此我们要对年龄进行区间切割"
   ]
  },
  {
   "cell_type": "code",
   "execution_count": null,
   "id": "07427b60",
   "metadata": {},
   "outputs": [],
   "source": [
    "1.定义年龄分组列表\n",
    "2.并根据以上分组对df1中的年龄进行分箱\n",
    "age_bins=[0,10,20,30,40,50,60,120]\n",
    "pd.cut(df1[\"年龄\"]，age_bins)"
   ]
  },
  {
   "cell_type": "code",
   "execution_count": null,
   "id": "ac4d5013",
   "metadata": {},
   "outputs": [],
   "source": [
    "#给分箱给予标签\n",
    "age_labels = [\"儿童\",\"青少年\",\"青年\",\"壮年\",\"中年\",\"中老年\",\"老年\"]\n",
    "df1[\"年龄组\"] = pd.cut(df1[\"年龄\"]，age_bins，lables=age_labels)"
   ]
  },
  {
   "cell_type": "code",
   "execution_count": null,
   "id": "3035f4f5",
   "metadata": {},
   "outputs": [],
   "source": [
    "df1.groupby(\"年龄组\")[\"工资\"].mean(  )"
   ]
  },
  {
   "cell_type": "markdown",
   "id": "27368955",
   "metadata": {},
   "source": [
    "## 重置索引"
   ]
  },
  {
   "cell_type": "code",
   "execution_count": null,
   "id": "919830ae",
   "metadata": {},
   "outputs": [],
   "source": [
    "#外层索引\n",
    "df1.loc[\"001\"]\n",
    "#内层索引\n",
    "df1.loc[\"001\"].loc[\"2021\"]\n",
    "#去掉层次化的索引，恢复索引\n",
    "df1.reset_index()"
   ]
  },
  {
   "cell_type": "markdown",
   "id": "2cda23ad",
   "metadata": {},
   "source": [
    "##   query"
   ]
  },
  {
   "cell_type": "code",
   "execution_count": 7,
   "id": "fe955cbc",
   "metadata": {},
   "outputs": [],
   "source": [
    "#用query筛选出性别为男且年龄<20的观察值\n",
    "#给query传入一个字符串，字符串是筛选条件\n",
    "df1.query('(性别 == \"男\")&(年龄 <=20)')\n",
    "#若用原先的方式\n",
    "df1[(df1[\"性别\"==\"男\"])&(df1[\"年龄\" <= 20])]"
   ]
  },
  {
   "cell_type": "code",
   "execution_count": null,
   "id": "66b9ae9d",
   "metadata": {},
   "outputs": [],
   "source": []
  },
  {
   "cell_type": "code",
   "execution_count": null,
   "id": "0e826d62",
   "metadata": {},
   "outputs": [],
   "source": []
  }
 ],
 "metadata": {
  "kernelspec": {
   "display_name": "pythonLearn",
   "language": "python",
   "name": "pythonlearn"
  },
  "language_info": {
   "codemirror_mode": {
    "name": "ipython",
    "version": 3
   },
   "file_extension": ".py",
   "mimetype": "text/x-python",
   "name": "python",
   "nbconvert_exporter": "python",
   "pygments_lexer": "ipython3",
   "version": "3.9.21"
  }
 },
 "nbformat": 4,
 "nbformat_minor": 5
}
