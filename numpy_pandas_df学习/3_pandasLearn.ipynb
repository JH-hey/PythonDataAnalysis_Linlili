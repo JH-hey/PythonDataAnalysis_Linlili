{
 "cells": [
  {
   "cell_type": "code",
   "execution_count": 1,
   "id": "1a546b5e",
   "metadata": {},
   "outputs": [],
   "source": [
    "import pandas as pd"
   ]
  },
  {
   "cell_type": "code",
   "execution_count": 3,
   "id": "37c424de",
   "metadata": {},
   "outputs": [
    {
     "data": {
      "text/plain": [
       "0   -1.2\n",
       "1    3.7\n",
       "2    2.5\n",
       "3   -8.2\n",
       "4    6.3\n",
       "dtype: float64"
      ]
     },
     "execution_count": 3,
     "metadata": {},
     "output_type": "execute_result"
    }
   ],
   "source": [
    "s1=pd.Series([-1.2,3.7,2.5,-8.2,6.3])\n",
    "s1"
   ]
  },
  {
   "cell_type": "code",
   "execution_count": 6,
   "id": "c2448f21",
   "metadata": {},
   "outputs": [
    {
     "name": "stdout",
     "output_type": "stream",
     "text": [
      "RangeIndex(start=0, stop=5, step=1)\n",
      "[-1.2  3.7  2.5 -8.2  6.3]\n"
     ]
    }
   ],
   "source": [
    "print(s1.index)\n",
    "print(s1.values)"
   ]
  },
  {
   "cell_type": "code",
   "execution_count": 7,
   "id": "e3134497",
   "metadata": {},
   "outputs": [
    {
     "data": {
      "text/plain": [
       "5    1\n",
       "4    2\n",
       "3    3\n",
       "2    4\n",
       "1    5\n",
       "dtype: int64"
      ]
     },
     "execution_count": 7,
     "metadata": {},
     "output_type": "execute_result"
    }
   ],
   "source": [
    "s2=pd.Series([1,2,3,4,5],index=[5,4,3,2,1])\n",
    "s2"
   ]
  },
  {
   "cell_type": "code",
   "execution_count": 11,
   "id": "cbde5478",
   "metadata": {},
   "outputs": [
    {
     "name": "stdout",
     "output_type": "stream",
     "text": [
      "2\n",
      "2\n"
     ]
    }
   ],
   "source": [
    "print(s2.loc[4])\n",
    "print(s2.iloc[1])"
   ]
  },
  {
   "cell_type": "code",
   "execution_count": 12,
   "id": "42765c43",
   "metadata": {},
   "outputs": [
    {
     "data": {
      "text/plain": [
       "5    1\n",
       "4    2\n",
       "3    3\n",
       "dtype: int64"
      ]
     },
     "execution_count": 12,
     "metadata": {},
     "output_type": "execute_result"
    }
   ],
   "source": [
    "s2.loc[5:3]"
   ]
  },
  {
   "cell_type": "code",
   "execution_count": 14,
   "id": "5f80145e",
   "metadata": {},
   "outputs": [
    {
     "data": {
      "text/plain": [
       "小李    82\n",
       "小王    83\n",
       "dtype: int64"
      ]
     },
     "execution_count": 14,
     "metadata": {},
     "output_type": "execute_result"
    }
   ],
   "source": [
    "s3=pd.Series({\"小李\":82,\"小王\":83})\n",
    "s3"
   ]
  },
  {
   "cell_type": "code",
   "execution_count": 16,
   "id": "192bcea3",
   "metadata": {},
   "outputs": [
    {
     "data": {
      "text/plain": [
       "小李    82\n",
       "小王    93\n",
       "dtype: int64"
      ]
     },
     "execution_count": 16,
     "metadata": {},
     "output_type": "execute_result"
    }
   ],
   "source": [
    "s3.loc[\"小王\"]=93\n",
    "s3"
   ]
  },
  {
   "cell_type": "code",
   "execution_count": 17,
   "id": "a245ad39",
   "metadata": {},
   "outputs": [
    {
     "data": {
      "text/plain": [
       "小李    True\n",
       "小王    True\n",
       "dtype: bool"
      ]
     },
     "execution_count": 17,
     "metadata": {},
     "output_type": "execute_result"
    }
   ],
   "source": [
    "s3>80"
   ]
  },
  {
   "cell_type": "code",
   "execution_count": 18,
   "id": "b01edd43",
   "metadata": {},
   "outputs": [
    {
     "data": {
      "text/plain": [
       "小李    False\n",
       "小王     True\n",
       "dtype: bool"
      ]
     },
     "execution_count": 18,
     "metadata": {},
     "output_type": "execute_result"
    }
   ],
   "source": [
    "s3>90"
   ]
  },
  {
   "cell_type": "code",
   "execution_count": 19,
   "id": "0ece39ac",
   "metadata": {},
   "outputs": [
    {
     "data": {
      "text/plain": [
       "小李     True\n",
       "小王    False\n",
       "dtype: bool"
      ]
     },
     "execution_count": 19,
     "metadata": {},
     "output_type": "execute_result"
    }
   ],
   "source": [
    "s3<85"
   ]
  },
  {
   "cell_type": "code",
   "execution_count": 26,
   "id": "6b776502",
   "metadata": {},
   "outputs": [
    {
     "name": "stdout",
     "output_type": "stream",
     "text": [
      "小李    82\n",
      "小王    93\n",
      "dtype: int64\n",
      "小李    82\n",
      "小王    93\n",
      "dtype: int64\n"
     ]
    }
   ],
   "source": [
    "s2=s3[(s3>90)|(s3<85)]\n",
    "print(s2)\n",
    "print(s3)"
   ]
  },
  {
   "cell_type": "markdown",
   "id": "dccc6419",
   "metadata": {},
   "source": [
    "# 第二个部分"
   ]
  },
  {
   "cell_type": "code",
   "execution_count": 2,
   "id": "c2f6cce3",
   "metadata": {},
   "outputs": [
    {
     "data": {
      "text/plain": [
       "小明    95\n",
       "小杰    85\n",
       "小宇    60\n",
       "小娟    79\n",
       "小彤    76\n",
       "dtype: int64"
      ]
     },
     "execution_count": 2,
     "metadata": {},
     "output_type": "execute_result"
    }
   ],
   "source": [
    "s1=pd.Series([92,67,70,88,76],index=[\"小明\",\"小红\",\"小杰\",\"小华\",\"小丽\"])\n",
    "s1\n",
    "s2=pd.Series([95,85,60,79,76],index=[\"小明\",\"小杰\",\"小宇\",\"小娟\",\"小彤\"])\n",
    "s2"
   ]
  },
  {
   "cell_type": "code",
   "execution_count": 5,
   "id": "2301b800",
   "metadata": {},
   "outputs": [
    {
     "data": {
      "text/plain": [
       "小丽     76.0\n",
       "小华     88.0\n",
       "小娟     79.0\n",
       "小宇     60.0\n",
       "小彤     76.0\n",
       "小明    187.0\n",
       "小杰    155.0\n",
       "小红     67.0\n",
       "dtype: float64"
      ]
     },
     "execution_count": 5,
     "metadata": {},
     "output_type": "execute_result"
    }
   ],
   "source": [
    "s1.add(s2,fill_value=0)"
   ]
  },
  {
   "cell_type": "code",
   "execution_count": 38,
   "id": "766fe83b",
   "metadata": {},
   "outputs": [
    {
     "data": {
      "text/plain": [
       "count     5.000000\n",
       "mean     78.600000\n",
       "std      10.990905\n",
       "min      67.000000\n",
       "25%      70.000000\n",
       "50%      76.000000\n",
       "75%      88.000000\n",
       "max      92.000000\n",
       "dtype: float64"
      ]
     },
     "execution_count": 38,
     "metadata": {},
     "output_type": "execute_result"
    }
   ],
   "source": [
    "s1.describe()"
   ]
  },
  {
   "cell_type": "code",
   "execution_count": 41,
   "id": "8edf2b9e",
   "metadata": {},
   "outputs": [
    {
     "data": {
      "text/plain": [
       "小明    102\n",
       "小红     77\n",
       "小杰     80\n",
       "小华     98\n",
       "小丽     86\n",
       "dtype: int64"
      ]
     },
     "execution_count": 41,
     "metadata": {},
     "output_type": "execute_result"
    }
   ],
   "source": [
    "s1=s1+5\n",
    "s1"
   ]
  },
  {
   "cell_type": "code",
   "execution_count": 45,
   "id": "9e8a9fac",
   "metadata": {},
   "outputs": [
    {
     "data": {
      "text/plain": [
       "'D'"
      ]
     },
     "execution_count": 45,
     "metadata": {},
     "output_type": "execute_result"
    }
   ],
   "source": [
    "def grade(score):\n",
    "    if score >= 90:\n",
    "        return  \"A\"\n",
    "    elif score >=80:\n",
    "        return \"B\"\n",
    "    elif score >=70:\n",
    "        return \"C\"\n",
    "    elif score >=60 :\n",
    "        return \"D\"\n",
    "    else:\n",
    "        return \"不及格\"\n",
    "grade(67)"
   ]
  },
  {
   "cell_type": "code",
   "execution_count": 46,
   "id": "5d0111af",
   "metadata": {},
   "outputs": [
    {
     "data": {
      "text/plain": [
       "小明    A\n",
       "小红    C\n",
       "小杰    B\n",
       "小华    A\n",
       "小丽    B\n",
       "dtype: object"
      ]
     },
     "execution_count": 46,
     "metadata": {},
     "output_type": "execute_result"
    }
   ],
   "source": [
    "s1.apply(grade)"
   ]
  },
  {
   "cell_type": "code",
   "execution_count": null,
   "id": "808a0b5c",
   "metadata": {},
   "outputs": [],
   "source": []
  }
 ],
 "metadata": {
  "kernelspec": {
   "display_name": "pythonLearn",
   "language": "python",
   "name": "pythonlearn"
  },
  "language_info": {
   "codemirror_mode": {
    "name": "ipython",
    "version": 3
   },
   "file_extension": ".py",
   "mimetype": "text/x-python",
   "name": "python",
   "nbconvert_exporter": "python",
   "pygments_lexer": "ipython3",
   "version": "3.9.21"
  }
 },
 "nbformat": 4,
 "nbformat_minor": 5
}
