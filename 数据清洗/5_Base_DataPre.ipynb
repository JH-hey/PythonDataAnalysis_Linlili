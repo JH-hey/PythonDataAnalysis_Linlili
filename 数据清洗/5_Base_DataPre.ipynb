{
 "cells": [
  {
   "cell_type": "markdown",
   "id": "1de06aa4",
   "metadata": {},
   "source": [
    "## 对索引和列名进行rename操作"
   ]
  },
  {
   "cell_type": "code",
   "execution_count": 1,
   "id": "ffdc96e7",
   "metadata": {},
   "outputs": [
    {
     "ename": "NameError",
     "evalue": "name 'df1' is not defined",
     "output_type": "error",
     "traceback": [
      "\u001b[1;31m---------------------------------------------------------------------------\u001b[0m",
      "\u001b[1;31mNameError\u001b[0m                                 Traceback (most recent call last)",
      "Cell \u001b[1;32mIn[1], line 1\u001b[0m\n\u001b[1;32m----> 1\u001b[0m df1 \u001b[38;5;241m=\u001b[39m \u001b[43mdf1\u001b[49m\u001b[38;5;241m.\u001b[39mrename(index\u001b[38;5;241m=\u001b[39m{\u001b[38;5;124m\"\u001b[39m\u001b[38;5;124m2_\u001b[39m\u001b[38;5;124m\"\u001b[39m:\u001b[38;5;124m\"\u001b[39m\u001b[38;5;124m2\u001b[39m\u001b[38;5;124m\"\u001b[39m,\u001b[38;5;124m\"\u001b[39m\u001b[38;5;124m_5\u001b[39m\u001b[38;5;124m\"\u001b[39m:\u001b[38;5;124m\"\u001b[39m\u001b[38;5;124m5\u001b[39m\u001b[38;5;124m\"\u001b[39m,\u001b[38;5;124m\"\u001b[39m\u001b[38;5;124m_6\u001b[39m\u001b[38;5;124m\"\u001b[39m:\u001b[38;5;124m\"\u001b[39m\u001b[38;5;124m6\u001b[39m\u001b[38;5;124m\"\u001b[39m})  \n\u001b[0;32m      2\u001b[0m df1 \u001b[38;5;241m=\u001b[39m df1\u001b[38;5;241m.\u001b[39mrename(columns\u001b[38;5;241m=\u001b[39m{\u001b[38;5;124m\"\u001b[39m\u001b[38;5;124m客户姓名\u001b[39m\u001b[38;5;124m\"\u001b[39m:\u001b[38;5;124m\"\u001b[39m\u001b[38;5;124m客户\u001b[39m\u001b[38;5;124m\"\u001b[39m,\u001b[38;5;124m\"\u001b[39m\u001b[38;5;124m客户性别\u001b[39m\u001b[38;5;124m\"\u001b[39m:\u001b[38;5;124m\"\u001b[39m\u001b[38;5;124m性别\u001b[39m\u001b[38;5;124m\"\u001b[39m})\n",
      "\u001b[1;31mNameError\u001b[0m: name 'df1' is not defined"
     ]
    }
   ],
   "source": [
    "df1 = df1.rename(index={\"2_\":\"2\",\"_5\":\"5\",\"_6\":\"6\"})  \n",
    "df1 = df1.rename(columns={\"客户姓名\":\"客户\",\"客户性别\":\"性别\"})  \n",
    "#  df1.rename(columns={\"客户姓名\":\"客户\",\"客户性别\":\"性别\"},inplace=True) "
   ]
  },
  {
   "cell_type": "code",
   "execution_count": null,
   "id": "b54dc1be",
   "metadata": {},
   "outputs": [],
   "source": [
    "#还可以对列名或索引名进行函数操作\n",
    "df2.rename(index=str.upper)\n",
    "df2.rename(columns=str.upper)"
   ]
  },
  {
   "cell_type": "code",
   "execution_count": 2,
   "id": "7dd0d43c",
   "metadata": {},
   "outputs": [],
   "source": [
    "#将某列设置为索引\n",
    "df2.set_index(\"Salesperson\")\n",
    "#重置索引\n",
    "df2.reset_index()\n",
    "#将索引进行重新排序\n",
    "df4.sort_index()\n",
    "\n",
    "#上述均不直接改变原始datframe ，要么重新赋值，要么inplace=True "
   ]
  },
  {
   "cell_type": "markdown",
   "id": "a8098123",
   "metadata": {},
   "source": [
    "## 清理数据"
   ]
  },
  {
   "cell_type": "markdown",
   "id": "36bbb929",
   "metadata": {},
   "source": [
    "### 结构"
   ]
  },
  {
   "cell_type": "code",
   "execution_count": 4,
   "id": "408a5eb8",
   "metadata": {},
   "outputs": [
    {
     "ename": "NameError",
     "evalue": "name 'df1' is not defined",
     "output_type": "error",
     "traceback": [
      "\u001b[1;31m---------------------------------------------------------------------------\u001b[0m",
      "\u001b[1;31mNameError\u001b[0m                                 Traceback (most recent call last)",
      "Cell \u001b[1;32mIn[4], line 2\u001b[0m\n\u001b[0;32m      1\u001b[0m \u001b[38;5;66;03m#行列相反\u001b[39;00m\n\u001b[1;32m----> 2\u001b[0m df1\u001b[38;5;241m=\u001b[39m\u001b[43mdf1\u001b[49m\u001b[38;5;241m.\u001b[39mT\n",
      "\u001b[1;31mNameError\u001b[0m: name 'df1' is not defined"
     ]
    }
   ],
   "source": [
    "#行列相反\n",
    "df1=df1.T #转置"
   ]
  },
  {
   "cell_type": "code",
   "execution_count": null,
   "id": "b7ecb2bf",
   "metadata": {},
   "outputs": [],
   "source": [
    "#  对列进行拆分\n",
    "df2[\"人口密度\"].str.split(\"/\") #转换成列表\n",
    "df2[[\"人口\",\"面积\"]] = df2[\"人口密度\"].str.split(\"/\"，expand=True) #列表直接转换成多个列"
   ]
  },
  {
   "cell_type": "code",
   "execution_count": null,
   "id": "8bc8ba98",
   "metadata": {},
   "outputs": [],
   "source": [
    "#删除列\n",
    "df2 = df2.drop([\"人口密度\"],axis=1)"
   ]
  },
  {
   "cell_type": "code",
   "execution_count": null,
   "id": "86200d82",
   "metadata": {},
   "outputs": [],
   "source": [
    "#合并列\n",
    "df3[\"姓\"].str.cat(df3[\"名\"])\n",
    "df3[\"姓\"].str.cat(df3[\"名\"]，sep='-') #指定拼接时的分隔符"
   ]
  },
  {
   "cell_type": "code",
   "execution_count": null,
   "id": "274e059a",
   "metadata": {},
   "outputs": [],
   "source": [
    "#将宽数据变成长数据\n",
    "pd.melt(df4,id_vars=[\"国家代码\"，\"年份\"]，var_name='年龄组',value_name=\"肺结核数量\")\n",
    "#id_var:被转换df中不变的部分\n",
    "# var_name：新df中包含原本列名的新列\n",
    "#value_name：新df中包含原本变量的新列 "
   ]
  },
  {
   "cell_type": "code",
   "execution_count": null,
   "id": "7b6cb726",
   "metadata": {},
   "outputs": [],
   "source": [
    "#拆分行：将列表拆成多行（把列表中每一个变量作为单独一行）\n",
    "df5.explode(\"课程列表\")"
   ]
  },
  {
   "cell_type": "code",
   "execution_count": null,
   "id": "2c81c5b9",
   "metadata": {},
   "outputs": [],
   "source": [
    "#删除行：\n",
    "df6.drop(\"考试2\")\n",
    "#删除列\n",
    "df6.drop(\"考试2\"，axis=1)"
   ]
  },
  {
   "cell_type": "markdown",
   "id": "0598442d",
   "metadata": {},
   "source": [
    "###  基本上对dataframe的操作都是不改变原始dataframe的，都要重新赋值或inplace=True"
   ]
  },
  {
   "cell_type": "markdown",
   "id": "03210a20",
   "metadata": {},
   "source": [
    "## 内容\n"
   ]
  },
  {
   "cell_type": "markdown",
   "id": "fba77c82",
   "metadata": {},
   "source": [
    "### 填补缺失"
   ]
  },
  {
   "cell_type": "code",
   "execution_count": null,
   "id": "f444b325",
   "metadata": {},
   "outputs": [],
   "source": [
    "df4[\"B\"].fillna(df[\"B\"].mean())\n",
    "df4.fillna(0)\n",
    "df4.fillna({\"A\":0,\"B\":10,\"C\":20})  #A列添啥，B列添啥，C列添啥"
   ]
  },
  {
   "cell_type": "code",
   "execution_count": null,
   "id": "2d7f74de",
   "metadata": {},
   "outputs": [],
   "source": [
    "#删除有缺失值的行，默认是删除行的\n",
    "df5.dropna()\n",
    "df5.dropna(subset=[\"工资 \"])\n",
    "df5.dropna(axis=1) #删除有缺失值的列"
   ]
  },
  {
   "cell_type": "markdown",
   "id": "19de7ac0",
   "metadata": {},
   "source": [
    "### 删除重复"
   ]
  },
  {
   "cell_type": "code",
   "execution_count": null,
   "id": "9ecbf970",
   "metadata": {},
   "outputs": [],
   "source": [
    "df6.drop_duplicates(subset=[\"姓名\"，\"性别\"],keep=last)\n",
    "#默认keep保留first\n",
    "df6[\"姓名\"].drop_duplicates()"
   ]
  },
  {
   "cell_type": "markdown",
   "id": "815e377d",
   "metadata": {},
   "source": [
    "### 处理不一致数据"
   ]
  },
  {
   "cell_type": "code",
   "execution_count": null,
   "id": "a7c04d49",
   "metadata": {},
   "outputs": [],
   "source": [
    "#单个处理\n",
    "df7.replace([\"清华\",\"五道口\"],\"清华大学\")\n",
    "df7[\"学校\"].replace([\"清华\",\"五道口\"],\"清华大学\")\n",
    "#多个处理\n",
    "replace_dict={\n",
    "    \"华南理工\":\"华南理工大学\"\n",
    "    \"清华\":\"清华大学\"\n",
    "    \"北大\":\"北京大学\"\n",
    "}\n",
    "df7.replace(replace_dict)"
   ]
  },
  {
   "cell_type": "markdown",
   "id": "78e3d631",
   "metadata": {},
   "source": [
    "###  数据类型转换"
   ]
  },
  {
   "cell_type": "code",
   "execution_count": null,
   "id": "63dd5dd4",
   "metadata": {},
   "outputs": [],
   "source": [
    "type(s1)\n",
    "s1.astype(\"str\")\n",
    "s2.astype(\"category\")"
   ]
  },
  {
   "cell_type": "markdown",
   "id": "75ca2b60",
   "metadata": {},
   "source": [
    "## 保存数据"
   ]
  },
  {
   "cell_type": "code",
   "execution_count": 5,
   "id": "eca63f22",
   "metadata": {},
   "outputs": [
    {
     "ename": "NameError",
     "evalue": "name 'df1' is not defined",
     "output_type": "error",
     "traceback": [
      "\u001b[1;31m---------------------------------------------------------------------------\u001b[0m",
      "\u001b[1;31mNameError\u001b[0m                                 Traceback (most recent call last)",
      "Cell \u001b[1;32mIn[5], line 1\u001b[0m\n\u001b[1;32m----> 1\u001b[0m \u001b[43mdf1\u001b[49m\u001b[38;5;241m.\u001b[39mto_csv(\u001b[38;5;124m\"\u001b[39m\u001b[38;5;124m位置\u001b[39m\u001b[38;5;124m\"\u001b[39m)\n",
      "\u001b[1;31mNameError\u001b[0m: name 'df1' is not defined"
     ]
    }
   ],
   "source": [
    "df1.to_csv(\"###.csv\")\n",
    "#默认保留index\n",
    "#且从csv再次打开时，会将csv文件中都视为列，不区分index，从而创建默认的index\n",
    "df1.to_csv(\"位置\",index=False)\n",
    "#不保留索引"
   ]
  },
  {
   "cell_type": "code",
   "execution_count": null,
   "id": "727fd670",
   "metadata": {},
   "outputs": [],
   "source": [
    "#如果再次打开csv时，将原先的index视为列后，应进行如下操作，回归原始结构\n",
    "cleaned_df.rename(columns={\"###\":\"销售ID\"},inplace=True)\n",
    "cleaned_df.set_index(\"销售ID\",inplace=True)"
   ]
  }
 ],
 "metadata": {
  "kernelspec": {
   "display_name": "pythonLearn",
   "language": "python",
   "name": "pythonlearn"
  },
  "language_info": {
   "codemirror_mode": {
    "name": "ipython",
    "version": 3
   },
   "file_extension": ".py",
   "mimetype": "text/x-python",
   "name": "python",
   "nbconvert_exporter": "python",
   "pygments_lexer": "ipython3",
   "version": "3.9.21"
  }
 },
 "nbformat": 4,
 "nbformat_minor": 5
}
