{
 "cells": [
  {
   "cell_type": "markdown",
   "id": "6be5cc58",
   "metadata": {},
   "source": [
    "# 一级标题"
   ]
  },
  {
   "cell_type": "markdown",
   "id": "1d974c76",
   "metadata": {},
   "source": [
    "## 二级标题"
   ]
  },
  {
   "cell_type": "markdown",
   "id": "f609671b",
   "metadata": {},
   "source": [
    "**粗体字**"
   ]
  },
  {
   "cell_type": "markdown",
   "id": "21282697",
   "metadata": {},
   "source": [
    "*斜体字*"
   ]
  },
  {
   "cell_type": "markdown",
   "id": "ff536904",
   "metadata": {},
   "source": [
    "我被~~删除~~了"
   ]
  },
  {
   "cell_type": "markdown",
   "id": "86a3e0a3",
   "metadata": {},
   "source": [
    "你好\n",
    "\n",
    "你好"
   ]
  },
  {
   "cell_type": "markdown",
   "id": "d54823e9",
   "metadata": {},
   "source": [
    "- 你好\n",
    "- 你好\n"
   ]
  },
  {
   "cell_type": "markdown",
   "id": "b8fb95f5",
   "metadata": {},
   "source": [
    "1. 你好\n",
    "2. 你好"
   ]
  },
  {
   "cell_type": "markdown",
   "id": "f893b94e",
   "metadata": {},
   "source": [
    "你好  \n",
    "你好"
   ]
  },
  {
   "cell_type": "markdown",
   "id": "9115f50b",
   "metadata": {},
   "source": [
    "[b站](https://www.bilibili.com/)"
   ]
  },
  {
   "cell_type": "markdown",
   "id": "95426ad2",
   "metadata": {},
   "source": [
    "我们通过`import`来导入代码"
   ]
  },
  {
   "cell_type": "markdown",
   "id": "603b937c",
   "metadata": {},
   "source": [
    "``` python\n",
    "import math\n",
    "print(\"hello world\")\n",
    "```"
   ]
  },
  {
   "cell_type": "markdown",
   "id": "30efed99",
   "metadata": {},
   "source": [
    "这是一个公式 $x+y=2$"
   ]
  },
  {
   "cell_type": "markdown",
   "id": "c1b3c57f",
   "metadata": {},
   "source": [
    "这是一个公式 $$x^2 + y^2 =8$$"
   ]
  },
  {
   "cell_type": "markdown",
   "id": "816afb67",
   "metadata": {},
   "source": [
    "$$x \\times y$$"
   ]
  },
  {
   "cell_type": "markdown",
   "id": "0a44d265",
   "metadata": {},
   "source": [
    "$$x \\div y$$"
   ]
  },
  {
   "cell_type": "markdown",
   "id": "938ac007",
   "metadata": {},
   "source": [
    "$$H_2O$$"
   ]
  },
  {
   "cell_type": "markdown",
   "id": "45b5cb1a",
   "metadata": {},
   "source": [
    "$$S_{x}$$"
   ]
  },
  {
   "cell_type": "markdown",
   "id": "6dd0e94a",
   "metadata": {},
   "source": [
    "$$x^{a+b}$$"
   ]
  },
  {
   "cell_type": "markdown",
   "id": "dee7a614",
   "metadata": {},
   "source": [
    "$$\\sum(x^2+y^2)$$"
   ]
  },
  {
   "cell_type": "markdown",
   "id": "407c7379",
   "metadata": {},
   "source": [
    "$$\\sqrt[3]x$$"
   ]
  },
  {
   "cell_type": "markdown",
   "id": "b3f340ed",
   "metadata": {},
   "source": [
    "$$\\sqrt[3]{a^2m^2}$$"
   ]
  },
  {
   "cell_type": "markdown",
   "id": "f7388016",
   "metadata": {},
   "source": [
    "$$\\sqrt[3]a^2m^2$$"
   ]
  },
  {
   "cell_type": "markdown",
   "id": "6f386fd1",
   "metadata": {},
   "source": [
    "$$\\frac{x+y}{x-y}$$"
   ]
  },
  {
   "cell_type": "markdown",
   "id": "760e49cc",
   "metadata": {},
   "source": [
    "$x \\div y$"
   ]
  },
  {
   "cell_type": "code",
   "execution_count": null,
   "id": "b6ad7a33",
   "metadata": {},
   "outputs": [],
   "source": []
  }
 ],
 "metadata": {
  "kernelspec": {
   "display_name": "pythonLearn",
   "language": "python",
   "name": "pythonlearn"
  },
  "language_info": {
   "codemirror_mode": {
    "name": "ipython",
    "version": 3
   },
   "file_extension": ".py",
   "mimetype": "text/x-python",
   "name": "python",
   "nbconvert_exporter": "python",
   "pygments_lexer": "ipython3",
   "version": "3.9.21"
  }
 },
 "nbformat": 4,
 "nbformat_minor": 5
}
